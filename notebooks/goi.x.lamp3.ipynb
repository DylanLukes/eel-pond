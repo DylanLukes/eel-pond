{
 "metadata": {
  "name": "goi.x.lamp3"
 },
 "nbformat": 3,
 "nbformat_minor": 0,
 "worksheets": [
  {
   "cells": [
    {
     "cell_type": "code",
     "collapsed": false,
     "input": [
      "%pylab inline\n",
      "DATA='../data/'"
     ],
     "language": "python",
     "metadata": {},
     "outputs": [
      {
       "output_type": "stream",
       "stream": "stdout",
       "text": [
        "\n",
        "Welcome to pylab, a matplotlib-based Python environment [backend: module://IPython.zmq.pylab.backend_inline].\n",
        "For more information, type 'help(pylab)'.\n"
       ]
      }
     ],
     "prompt_number": 1
    },
    {
     "cell_type": "code",
     "collapsed": false,
     "input": [
      "import csv\n",
      "best_matches = csv.DictReader(open(DATA + 'p_marinus.no_vlr.x.lamp0.best_matches.tsv'), delimiter='\\t')\n",
      "total_matches = csv.DictReader(open(DATA + 'p_marinus.no_vlr.x.lamp0.total_matches.tsv'), delimiter='\\t')"
     ],
     "language": "python",
     "metadata": {},
     "outputs": []
    }
   ],
   "metadata": {}
  }
 ]
}